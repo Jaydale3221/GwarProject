{
 "cells": [
  {
   "cell_type": "code",
   "execution_count": 1,
   "id": "557e8709",
   "metadata": {},
   "outputs": [],
   "source": [
    "import pandas as pd"
   ]
  },
  {
   "cell_type": "code",
   "execution_count": 96,
   "id": "59830d2c",
   "metadata": {},
   "outputs": [
    {
     "data": {
      "text/html": [
       "<div>\n",
       "<style scoped>\n",
       "    .dataframe tbody tr th:only-of-type {\n",
       "        vertical-align: middle;\n",
       "    }\n",
       "\n",
       "    .dataframe tbody tr th {\n",
       "        vertical-align: top;\n",
       "    }\n",
       "\n",
       "    .dataframe thead th {\n",
       "        text-align: right;\n",
       "    }\n",
       "</style>\n",
       "<table border=\"1\" class=\"dataframe\">\n",
       "  <thead>\n",
       "    <tr style=\"text-align: right;\">\n",
       "      <th></th>\n",
       "      <th>Unnamed: 0</th>\n",
       "      <th>#YYY/MM/DD</th>\n",
       "      <th>MAG</th>\n",
       "      <th>LAT</th>\n",
       "      <th>LON</th>\n",
       "      <th>DEPTH</th>\n",
       "      <th>Q</th>\n",
       "    </tr>\n",
       "  </thead>\n",
       "  <tbody>\n",
       "    <tr>\n",
       "      <th>0</th>\n",
       "      <td>21</td>\n",
       "      <td>1980-01-02</td>\n",
       "      <td>2.35</td>\n",
       "      <td>32.445</td>\n",
       "      <td>-115.162</td>\n",
       "      <td>4.8</td>\n",
       "      <td>C</td>\n",
       "    </tr>\n",
       "    <tr>\n",
       "      <th>1</th>\n",
       "      <td>30</td>\n",
       "      <td>1980-01-02</td>\n",
       "      <td>3.15</td>\n",
       "      <td>34.449</td>\n",
       "      <td>-119.680</td>\n",
       "      <td>15.6</td>\n",
       "      <td>D</td>\n",
       "    </tr>\n",
       "    <tr>\n",
       "      <th>2</th>\n",
       "      <td>33</td>\n",
       "      <td>1980-01-02</td>\n",
       "      <td>2.83</td>\n",
       "      <td>33.040</td>\n",
       "      <td>-115.499</td>\n",
       "      <td>5.1</td>\n",
       "      <td>A</td>\n",
       "    </tr>\n",
       "    <tr>\n",
       "      <th>3</th>\n",
       "      <td>38</td>\n",
       "      <td>1980-01-03</td>\n",
       "      <td>2.49</td>\n",
       "      <td>32.967</td>\n",
       "      <td>-115.542</td>\n",
       "      <td>14.5</td>\n",
       "      <td>A</td>\n",
       "    </tr>\n",
       "    <tr>\n",
       "      <th>4</th>\n",
       "      <td>48</td>\n",
       "      <td>1980-01-03</td>\n",
       "      <td>2.52</td>\n",
       "      <td>33.943</td>\n",
       "      <td>-116.304</td>\n",
       "      <td>0.7</td>\n",
       "      <td>A</td>\n",
       "    </tr>\n",
       "  </tbody>\n",
       "</table>\n",
       "</div>"
      ],
      "text/plain": [
       "   Unnamed: 0  #YYY/MM/DD   MAG     LAT      LON  DEPTH  Q\n",
       "0          21  1980-01-02  2.35  32.445 -115.162    4.8  C\n",
       "1          30  1980-01-02  3.15  34.449 -119.680   15.6  D\n",
       "2          33  1980-01-02  2.83  33.040 -115.499    5.1  A\n",
       "3          38  1980-01-03  2.49  32.967 -115.542   14.5  A\n",
       "4          48  1980-01-03  2.52  33.943 -116.304    0.7  A"
      ]
     },
     "execution_count": 96,
     "metadata": {},
     "output_type": "execute_result"
    }
   ],
   "source": [
    "df = pd.read_csv('CleanedData.csv')\n",
    "df.head()"
   ]
  },
  {
   "cell_type": "markdown",
   "id": "c0002952",
   "metadata": {},
   "source": [
    "# Data Transformations"
   ]
  },
  {
   "cell_type": "markdown",
   "id": "23126542",
   "metadata": {},
   "source": [
    "Normalize the data with min-max normalization"
   ]
  },
  {
   "cell_type": "code",
   "execution_count": 3,
   "id": "74442e88",
   "metadata": {},
   "outputs": [
    {
     "name": "stdout",
     "output_type": "stream",
     "text": [
      "Original data headings:\n",
      "['LAT', 'LON', 'DEPTH']\n",
      "\n",
      "Normalized data headings:\n",
      "['LAT', 'LON', 'DEPTH']\n",
      "\n",
      "Normalized data:\n",
      "           LAT       LON     DEPTH\n",
      "0       0.0890  0.880391  0.117550\n",
      "1       0.4898  0.298700  0.296358\n",
      "2       0.2080  0.837003  0.122517\n",
      "3       0.1934  0.831466  0.278146\n",
      "4       0.3886  0.733359  0.049669\n",
      "...        ...       ...       ...\n",
      "415201  0.2586  0.537788  1.000000\n",
      "415202  0.0926  0.668984  0.057947\n",
      "415203  0.2790  0.657139  0.268212\n",
      "415204  0.0796  0.741728  0.370861\n",
      "415205  0.2962  0.714304  0.259934\n",
      "\n",
      "[415206 rows x 3 columns]\n"
     ]
    }
   ],
   "source": [
    "# Define the columns to be normalized\n",
    "cols_to_norm = [\"LAT\",\"LON\",\"DEPTH\"]\n",
    "\n",
    "# Get the orignal data\n",
    "original_data = df[cols_to_norm]\n",
    "\n",
    "# Get the normalized data\n",
    "normalized_data = (df[cols_to_norm] - df[cols_to_norm].min()) / (df[cols_to_norm].max() - df[cols_to_norm].min())\n",
    "\n",
    "print(\"Original data headings:\")\n",
    "print(original_data.columns.tolist())\n",
    "print(\"\\nNormalized data headings:\")\n",
    "print(normalized_data.columns.tolist())\n",
    "\n",
    "# Print the normalized data\n",
    "print(\"\\nNormalized data:\")\n",
    "print(normalized_data)"
   ]
  },
  {
   "cell_type": "markdown",
   "id": "66fa4545",
   "metadata": {},
   "source": [
    "Normalize the data via Z-score standardization"
   ]
  },
  {
   "cell_type": "code",
   "execution_count": 4,
   "id": "e7244c43",
   "metadata": {},
   "outputs": [
    {
     "name": "stdout",
     "output_type": "stream",
     "text": [
      "Standardized data:\n",
      "             MAG      DEPTH\n",
      "0       1.496376  -0.604225\n",
      "1       2.619082   1.699209\n",
      "2       2.169999  -0.540240\n",
      "3       1.692850   1.464600\n",
      "4       1.734951  -1.478676\n",
      "...          ...        ...\n",
      "415201  1.454275  10.763649\n",
      "415202 -0.580630  -1.372036\n",
      "415203 -0.594663   1.336632\n",
      "415204 -0.061378   2.658974\n",
      "415205 -0.763069   1.229991\n",
      "\n",
      "[415206 rows x 2 columns]\n"
     ]
    }
   ],
   "source": [
    "from scipy import stats\n",
    "\n",
    "# Define the columns to be standardized\n",
    "cols_to_std = [\"MAG\", \"DEPTH\"]\n",
    "\n",
    "original_data = df[cols_to_std]\n",
    "\n",
    "# Apply z-score standardization to the selected columns\n",
    "df[cols_to_std] = stats.zscore(df[cols_to_std])\n",
    "standardized_data = df[cols_to_std]\n",
    "\n",
    "print(\"Standardized data:\")\n",
    "print(standardized_data)"
   ]
  },
  {
   "cell_type": "markdown",
   "id": "28c551fa",
   "metadata": {},
   "source": [
    "Data Reduction"
   ]
  },
  {
   "cell_type": "code",
   "execution_count": 5,
   "id": "d81ae405",
   "metadata": {},
   "outputs": [
    {
     "name": "stdout",
     "output_type": "stream",
     "text": [
      "         SVD1      SVD2\n",
      "0  119.638725  0.223477\n",
      "1  124.537867  1.361512\n",
      "2  120.129412 -0.120575\n",
      "3  120.150121  1.462051\n",
      "4  121.155835 -1.191984\n"
     ]
    }
   ],
   "source": [
    "# SVD Data Reduction\n",
    "import numpy as np\n",
    "from sklearn.decomposition import TruncatedSVD\n",
    "\n",
    "# Select columns to use for SVD\n",
    "X = df[['MAG','LAT','LON','DEPTH']]\n",
    "\n",
    "# Fit SVD model to data\n",
    "svd = TruncatedSVD(n_components=2, random_state=42)\n",
    "X_svd = svd.fit_transform(X)\n",
    "\n",
    "# Create new dataframe with SVD results\n",
    "outcome = pd.DataFrame(data=X_svd, columns=['SVD1','SVD2'])\n",
    "print(outcome.head())"
   ]
  }
 ],
 "metadata": {
  "kernelspec": {
   "display_name": "Python 3 (ipykernel)",
   "language": "python",
   "name": "python3"
  },
  "language_info": {
   "codemirror_mode": {
    "name": "ipython",
    "version": 3
   },
   "file_extension": ".py",
   "mimetype": "text/x-python",
   "name": "python",
   "nbconvert_exporter": "python",
   "pygments_lexer": "ipython3",
   "version": "3.8.5"
  }
 },
 "nbformat": 4,
 "nbformat_minor": 5
}
